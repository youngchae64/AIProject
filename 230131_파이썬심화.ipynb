{
  "nbformat": 4,
  "nbformat_minor": 0,
  "metadata": {
    "colab": {
      "provenance": [],
      "authorship_tag": "ABX9TyMeXYj40rZ2S7/wAUB0dwNq",
      "include_colab_link": true
    },
    "kernelspec": {
      "name": "python3",
      "display_name": "Python 3"
    },
    "language_info": {
      "name": "python"
    }
  },
  "cells": [
    {
      "cell_type": "markdown",
      "metadata": {
        "id": "view-in-github",
        "colab_type": "text"
      },
      "source": [
        "<a href=\"https://colab.research.google.com/github/youngchae64/AIProject/blob/main/230131_%ED%8C%8C%EC%9D%B4%EC%8D%AC%EC%8B%AC%ED%99%94.ipynb\" target=\"_parent\"><img src=\"https://colab.research.google.com/assets/colab-badge.svg\" alt=\"Open In Colab\"/></a>"
      ]
    },
    {
      "cell_type": "code",
      "execution_count": null,
      "metadata": {
        "id": "UhpSuC--eahE"
      },
      "outputs": [],
      "source": [
        "#클래스 선언, object는 python3에서 자동 상속 \n",
        "#self는 생성된 인스턴스 자신을 의미함 \n",
        "\n",
        "class SoccerPlayer(object):\n",
        "  def __init__(self,name, position, back_num):\n",
        "    self.name = name\n",
        "    self.position = position\n",
        "    self.back_num = back_num\n",
        "\n",
        "  def __str__(self):\n",
        "    return \"Hello, My name is %s. My back number is %d\" % \\\n",
        "            (self.name, self.back_num)\n",
        "\n",
        "  def change_back_num(self, new_num):\n",
        "    print(\"선수의 등번호를 번경합니다: From %d to %d\" %(self.back_num,new_num))\n",
        "    self.back_num = new_num"
      ]
    },
    {
      "cell_type": "code",
      "source": [
        "abc = SoccerPlayer(\"son\", \"FW\", 7)\n",
        "park = SoccerPlayer(\"park\", \"WF\", 13)"
      ],
      "metadata": {
        "id": "MA-XGauoV4qk"
      },
      "execution_count": null,
      "outputs": []
    },
    {
      "cell_type": "code",
      "source": [
        "abc is park"
      ],
      "metadata": {
        "colab": {
          "base_uri": "https://localhost:8080/"
        },
        "id": "qw6inGukWAZ6",
        "outputId": "dc8b4c22-d1d6-495d-f1ce-d6928d483f1d"
      },
      "execution_count": null,
      "outputs": [
        {
          "output_type": "execute_result",
          "data": {
            "text/plain": [
              "False"
            ]
          },
          "metadata": {},
          "execution_count": 24
        }
      ]
    },
    {
      "cell_type": "code",
      "source": [
        "print(park)"
      ],
      "metadata": {
        "colab": {
          "base_uri": "https://localhost:8080/"
        },
        "id": "81pNUNqFWBGD",
        "outputId": "5c5f8e3a-ad2b-48bc-f423-92ef0696cfc5"
      },
      "execution_count": null,
      "outputs": [
        {
          "output_type": "stream",
          "name": "stdout",
          "text": [
            "Hello, My name is park. My back number is 13\n"
          ]
        }
      ]
    },
    {
      "cell_type": "code",
      "source": [
        "abc.change_back_num(5)"
      ],
      "metadata": {
        "colab": {
          "base_uri": "https://localhost:8080/"
        },
        "id": "KUJoYDf-WQYx",
        "outputId": "f483038b-cc95-4df7-e7c3-cc4b51cce74f"
      },
      "execution_count": null,
      "outputs": [
        {
          "output_type": "stream",
          "name": "stdout",
          "text": [
            "선수의 등번호를 번경합니다: From 7 to 5\n"
          ]
        }
      ]
    },
    {
      "cell_type": "code",
      "source": [
        "#노트북 만들기 \n",
        "class Note(object):\n",
        "  #객체 초기화\n",
        "  def __init__(self, content = None):\n",
        "    self.cotent.content\n",
        "  #내용 생성\n",
        "  def write_content(self, content):\n",
        "    self.content = content\n",
        "  #내용 삭제\n",
        "  def remove_all(self):\n",
        "    self.content = \"\"\n",
        "  #내용 합치기 \n",
        "  def __add__(self,other):\n",
        "    return self.content + other.content\n",
        "  #내용 출력\n",
        "  def __str__(self):\n",
        "    return self.content"
      ],
      "metadata": {
        "id": "Ar7oM8jXZS1H"
      },
      "execution_count": null,
      "outputs": []
    },
    {
      "cell_type": "code",
      "source": [
        "class NoteBook(object):\n",
        "  def __init__(self,title):\n",
        "    self.title = title\n",
        "    self.page_number =1\n",
        "    self.notes = {}\n",
        "\n",
        "  def add_note(self,note,page =0):\n",
        "    if self.page_number < 300:\n",
        "      if page == 0:\n",
        "        self.notes[self.page_number] = note\n",
        "        self.page_number += 1\n",
        "      else:\n",
        "        self.notes = {page : note}\n",
        "        self.page_number += 1\n",
        "    else: \n",
        "      print(\"Page가 모두 채워졌습니다.\")\n",
        "\n",
        "  def remove_note(self, page_number):\n",
        "    if page_number in self.notes.keys():\n",
        "      return self.notes.pop(page_number)\n",
        "    else:\n",
        "      print(\"해당 페이지는 존재하지 않습니다\")\n",
        "  \n",
        "  def get_number_of_pages(self):\n",
        "    return len(self.notes.keys())"
      ],
      "metadata": {
        "id": "yk9RTqE2aXuL"
      },
      "execution_count": null,
      "outputs": []
    },
    {
      "cell_type": "code",
      "source": [
        "#상속\n",
        "#부모클래스로부터 속성과 메소드를 물려받은 자식 클래스를 생성 하는 것"
      ],
      "metadata": {
        "id": "GwQeU0hR8Xz_"
      },
      "execution_count": null,
      "outputs": []
    },
    {
      "cell_type": "code",
      "source": [
        "class Person:\n",
        "  def __init__(self, name, age, gender):\n",
        "    self.name = name\n",
        "    self.age = age \n",
        "    self.gender = gender\n",
        "\n",
        "  def about_me(self):\n",
        "    print(\"저의 이름은\", self.name, \"이구요, 제 나이는 \", str(self.age), \"살 입니다.\")\n",
        "\n",
        "  def __str__(self):\n",
        "    return \"저의 이름은\", self.name, \"이구요, 제 나이는\", str(self.age), \"살 입니다.\"\n"
      ],
      "metadata": {
        "id": "BihB253o9ZTd"
      },
      "execution_count": null,
      "outputs": []
    },
    {
      "cell_type": "code",
      "source": [
        "class Employee(Person):\n",
        "  def __init__(self, name, age, gender, salary, hire_date):\n",
        "    super().__init__(name, age, gender) #부모 객체 사용\n",
        "    self.salary = salary\n",
        "    self.hire_date = hire_date #속성값 추가\n",
        "\n",
        "  def do_work(self):\n",
        "    print(\"열심히 일을 합니다.\")\n",
        "\n",
        "  def about_me(self): #부모 클래스 함수 재정의\n",
        "    super().about_me() #부모클래스 함수 사용\n",
        "    print(\"제 급여는\", self.salary, \"원 이구요, 제 입사일은 \", self.hire_date, \"입니다.\")\n",
        "    "
      ],
      "metadata": {
        "id": "SlwBWLTh-GFc"
      },
      "execution_count": null,
      "outputs": []
    },
    {
      "cell_type": "code",
      "source": [
        "myPerson = Person(\"John\", 34, \"Male\")\n",
        "myPerson.about_me()"
      ],
      "metadata": {
        "colab": {
          "base_uri": "https://localhost:8080/"
        },
        "id": "7O0tZ2Rh-9_H",
        "outputId": "32c65c08-b35b-4abd-f03c-050bf236a5a4"
      },
      "execution_count": null,
      "outputs": [
        {
          "output_type": "stream",
          "name": "stdout",
          "text": [
            "저의 이름은 John 이구요, 제 나이는  34 살 입니다.\n"
          ]
        }
      ]
    },
    {
      "cell_type": "code",
      "source": [
        "#다형성 \n",
        "#같은 이름 메소드의 내부 로직을 다르게 작성 "
      ],
      "metadata": {
        "id": "44SK6w-n_X29"
      },
      "execution_count": null,
      "outputs": []
    },
    {
      "cell_type": "code",
      "source": [
        "class Animal:\n",
        "  def __init__(self, name):\n",
        "    self.name = name\n",
        "\n",
        "  def talk(self):\n",
        "    raise NotImplementedError(\"Subclass must implement abstract method\")"
      ],
      "metadata": {
        "id": "vbYLx9x2_3Fu"
      },
      "execution_count": null,
      "outputs": []
    },
    {
      "cell_type": "code",
      "source": [
        "class Cat(Animal):\n",
        "  def talk(self):\n",
        "    return 'Meow!'\n",
        "\n",
        "class Dog(Animal):\n",
        "  def talk(self):\n",
        "    return 'Woof! Woof!'"
      ],
      "metadata": {
        "id": "-BJedFdsAJ1y"
      },
      "execution_count": null,
      "outputs": []
    },
    {
      "cell_type": "code",
      "source": [
        "animals = [Cat('Meme'),\n",
        "          Cat('Mr.Lee'),\n",
        "          Dog('Lee')]\n",
        "\n",
        "for animal in animals:\n",
        "  print(animal.name + ': ' + animal.talk())"
      ],
      "metadata": {
        "colab": {
          "base_uri": "https://localhost:8080/"
        },
        "id": "d6GH5tKPAYkU",
        "outputId": "34ac79c4-59c2-4e37-ae66-3a85bd231973"
      },
      "execution_count": null,
      "outputs": [
        {
          "output_type": "stream",
          "name": "stdout",
          "text": [
            "Meme: Meow!\n",
            "Mr.Lee: Meow!\n",
            "Lee: Woof! Woof!\n"
          ]
        }
      ]
    },
    {
      "cell_type": "code",
      "source": [
        "#누구나 객체 안의 모든 변수를 볼 필요가 없음 -> 소스 보호 "
      ],
      "metadata": {
        "id": "FHwarHhpBAsO"
      },
      "execution_count": null,
      "outputs": []
    },
    {
      "cell_type": "code",
      "source": [
        "class Product(object):\n",
        "  pass\n",
        "\n",
        "class Inventory(object):\n",
        "  def __init__(self):\n",
        "    self.__items = [] #__ 는 private 변수임, 외부 접근 불가 \n",
        "\n",
        "  def add_new_item(self, product):\n",
        "    if type(product) == Product: #type이 Product가 맞으면\n",
        "      self.__items.append(product) #items 리스트에 재고 추가 \n",
        "      print(\"new item added\")\n",
        "    else:\n",
        "      raise ValueError(\"Invalid Item\")\n",
        "\n",
        "  def get_number_of_items(self):\n",
        "    return len(self.__items)"
      ],
      "metadata": {
        "id": "0i4G3t-1BTjH"
      },
      "execution_count": null,
      "outputs": []
    },
    {
      "cell_type": "code",
      "source": [
        "my_inventory = Inventory()"
      ],
      "metadata": {
        "id": "uQe4Kr9u_-gu"
      },
      "execution_count": null,
      "outputs": []
    },
    {
      "cell_type": "code",
      "source": [
        "#property의 역할은 함수이긴 하나 함수이름을 변수명처럼 사용하여 class 내의 private 객체에 접근할 수 있도록 해줌"
      ],
      "metadata": {
        "id": "Xh4mOjERAEcs"
      },
      "execution_count": null,
      "outputs": []
    },
    {
      "cell_type": "code",
      "source": [],
      "metadata": {
        "id": "VHaAkfnoLboC"
      },
      "execution_count": null,
      "outputs": []
    }
  ]
}