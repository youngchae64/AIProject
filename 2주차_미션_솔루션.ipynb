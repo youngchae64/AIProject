{
  "nbformat": 4,
  "nbformat_minor": 0,
  "metadata": {
    "colab": {
      "provenance": [],
      "authorship_tag": "ABX9TyN1O3x+UApJHhTC7Kc+iH8i",
      "include_colab_link": true
    },
    "kernelspec": {
      "name": "python3",
      "display_name": "Python 3"
    },
    "language_info": {
      "name": "python"
    }
  },
  "cells": [
    {
      "cell_type": "markdown",
      "metadata": {
        "id": "view-in-github",
        "colab_type": "text"
      },
      "source": [
        "<a href=\"https://colab.research.google.com/github/youngchae64/AIProject/blob/main/2%EC%A3%BC%EC%B0%A8_%EB%AF%B8%EC%85%98_%EC%86%94%EB%A3%A8%EC%85%98.ipynb\" target=\"_parent\"><img src=\"https://colab.research.google.com/assets/colab-badge.svg\" alt=\"Open In Colab\"/></a>"
      ]
    },
    {
      "cell_type": "code",
      "execution_count": 340,
      "metadata": {
        "id": "SAqK3uNpkSo8"
      },
      "outputs": [],
      "source": [
        "#Q1. 중간고사 기말고사 점수를 따로 받아 저장하는 클래스를 구현해보세요. \n",
        "#단, 생성자의 인스턴스는 private으로 선언되어야하며, 데코레이터를 이용해 데이터를 저장하고, \n",
        "#함수를 이용해 평균값을 출력해보세요."
      ]
    },
    {
      "cell_type": "code",
      "source": [
        "class Score():\n",
        "  def __init__(self,mid,fin):\n",
        "    self.__mid = mid\n",
        "    self.__fin = fin\n",
        "\n",
        "  @property\n",
        "  def mid(self):\n",
        "    return self.__mid\n",
        "\n",
        "  @property\n",
        "  def fin(self):\n",
        "   return self.__fin"
      ],
      "metadata": {
        "id": "t1L--9GHkaLC"
      },
      "execution_count": 341,
      "outputs": []
    },
    {
      "cell_type": "code",
      "source": [
        "score = Score(90, 100)"
      ],
      "metadata": {
        "id": "ZIK7Di2ElGjf"
      },
      "execution_count": 342,
      "outputs": []
    },
    {
      "cell_type": "code",
      "source": [
        "print((score.mid + score.fin)/2)"
      ],
      "metadata": {
        "colab": {
          "base_uri": "https://localhost:8080/"
        },
        "id": "uXgc53xFlQV0",
        "outputId": "c8681d72-9e4a-45c1-94c9-25bfc0a0cbcb"
      },
      "execution_count": 343,
      "outputs": [
        {
          "output_type": "stream",
          "name": "stdout",
          "text": [
            "95.0\n"
          ]
        }
      ]
    },
    {
      "cell_type": "code",
      "source": [
        "#Q2. 다양한 탈 것을 사용하는 게임을 만드는 중입니다. \n",
        "#빠른 구현을 위해서 이미 구현한 Car 클래스를 이용해서 Bike라는 클래스를 새로 제작하려고 합니다. \n",
        "#Car 클래스를 상속받아서 새로운 Bike 클래스를 아래와 같이 출력되도록 구성해보세요."
      ],
      "metadata": {
        "id": "uDpMxTrclVnk"
      },
      "execution_count": 344,
      "outputs": []
    },
    {
      "cell_type": "code",
      "source": [
        "class Car():\n",
        "  def __init__(self, fuel, wheels):\n",
        "    self.fuel = fuel\n",
        "    self.wheels = wheels\n",
        "\n",
        "class Bike(Car):\n",
        "  def __init__(self, fuel, wheels, size):\n",
        "    super().__init__(fuel, wheels)\n",
        "    self.size = size"
      ],
      "metadata": {
        "id": "3dKviFnYlqFm"
      },
      "execution_count": 345,
      "outputs": []
    },
    {
      "cell_type": "code",
      "source": [
        "bike = Bike(\"gas\", 2 , \"small\")\n",
        "print(bike.fuel, bike.wheels, bike.size)"
      ],
      "metadata": {
        "colab": {
          "base_uri": "https://localhost:8080/"
        },
        "id": "LAGpnimZlQMt",
        "outputId": "445e6912-2c1f-4f33-fda3-e858ed3e3195"
      },
      "execution_count": 346,
      "outputs": [
        {
          "output_type": "stream",
          "name": "stdout",
          "text": [
            "gas 2 small\n"
          ]
        }
      ]
    },
    {
      "cell_type": "code",
      "source": [
        "#이번 시험 결과에 대한 데이터를 학과 사무실에서 CSV파일로 전달해줬습니다. \n",
        "#우리는 이 파일을 이용해서 데이터 처리를 진행해야 합니다. \n",
        "#파일 입출력을 이용해 파일 데이터를 리스트로 만들어보세요."
      ],
      "metadata": {
        "id": "zsI854HIljEF"
      },
      "execution_count": 347,
      "outputs": []
    },
    {
      "cell_type": "code",
      "source": [
        "with open(\"data-01-test-score.csv\", \"r\") as my_file:\n",
        "  content_list = my_file.readlines() #파일 전체를 list로 반환 \n",
        "  #print(type(content_list)) #Type 확인\n",
        "  print(content_list) #리스트 값 출력"
      ],
      "metadata": {
        "colab": {
          "base_uri": "https://localhost:8080/"
        },
        "id": "BeS71MVxl-da",
        "outputId": "84ba9bfd-a406-40e7-c791-547b40afe6e4"
      },
      "execution_count": 348,
      "outputs": [
        {
          "output_type": "stream",
          "name": "stdout",
          "text": [
            "['73,80,75,152\\n', '93,88,93,185\\n', '89,91,90,180\\n', '96,98,100,196\\n', '73,66,70,142\\n', '53,46,55,101\\n', '69,74,77,149\\n', '47,56,60,115\\n', '87,79,90,175\\n', '79,70,88,164\\n', '69,70,73,141\\n', '70,65,74,141\\n', '93,95,91,184\\n', '79,80,73,152\\n', '70,73,78,148\\n', '93,89,96,192\\n', '78,75,68,147\\n', '81,90,93,183\\n', '88,92,86,177\\n', '78,83,77,159\\n', '82,86,90,177\\n', '86,82,89,175\\n', '78,83,85,175\\n', '76,83,71,149\\n', '96,93,95,192']\n"
          ]
        }
      ]
    },
    {
      "cell_type": "code",
      "source": [
        "#f = open(\"data-01-test-score.csv\",\"r\")\n",
        "#file_path = f.read()\n",
        "import csv \n",
        "\n",
        "class ReadCSV():\n",
        "  def __init__(self, file_path):\n",
        "    self.file_path = file_path\n",
        "\n",
        "  def read_file(self):\n",
        "    f = open(\"data-01-test-score.csv\",\"r\")\n",
        "    contents = f.read()\n",
        "    return contents\n",
        "\n",
        "  def merge_list(self):\n",
        "    f = open(\"data-01-test-score.csv\",\"r\")\n",
        "    rdr = csv.reader(f)\n",
        "    list_of_csv = list(rdr)\n",
        "    for lst in list_of_csv:\n",
        "      sum1 = 0\n",
        "      for item in lst:\n",
        "        sum1 += int(item)\n",
        "    return sum1"
      ],
      "metadata": {
        "id": "3HzgcWxTndLd"
      },
      "execution_count": 349,
      "outputs": []
    },
    {
      "cell_type": "code",
      "source": [
        "read_csv = ReadCSV(\"data-01-test-score.csv\")"
      ],
      "metadata": {
        "id": "5hI5Jjiu_mlX"
      },
      "execution_count": 350,
      "outputs": []
    },
    {
      "cell_type": "code",
      "source": [
        "print(read_csv.read_file())"
      ],
      "metadata": {
        "colab": {
          "base_uri": "https://localhost:8080/"
        },
        "id": "Qd-HIxZj_qel",
        "outputId": "a4dc4c27-f916-4592-e811-5cd59ee13f5b"
      },
      "execution_count": 351,
      "outputs": [
        {
          "output_type": "stream",
          "name": "stdout",
          "text": [
            "73,80,75,152\n",
            "93,88,93,185\n",
            "89,91,90,180\n",
            "96,98,100,196\n",
            "73,66,70,142\n",
            "53,46,55,101\n",
            "69,74,77,149\n",
            "47,56,60,115\n",
            "87,79,90,175\n",
            "79,70,88,164\n",
            "69,70,73,141\n",
            "70,65,74,141\n",
            "93,95,91,184\n",
            "79,80,73,152\n",
            "70,73,78,148\n",
            "93,89,96,192\n",
            "78,75,68,147\n",
            "81,90,93,183\n",
            "88,92,86,177\n",
            "78,83,77,159\n",
            "82,86,90,177\n",
            "86,82,89,175\n",
            "78,83,85,175\n",
            "76,83,71,149\n",
            "96,93,95,192\n"
          ]
        }
      ]
    },
    {
      "cell_type": "code",
      "source": [
        "print(read_csv.merge_list())"
      ],
      "metadata": {
        "colab": {
          "base_uri": "https://localhost:8080/"
        },
        "id": "OPNQFsNk_trz",
        "outputId": "3a19b6e5-08bd-480a-dd80-abfdbcaaf3dd"
      },
      "execution_count": 352,
      "outputs": [
        {
          "output_type": "stream",
          "name": "stdout",
          "text": [
            "476\n"
          ]
        }
      ]
    },
    {
      "cell_type": "code",
      "source": [
        "def merge_list(self):\n",
        "    f = open(\"data-01-test-score.csv\",\"r\")\n",
        "    rdr = csv.reader(f)\n",
        "    list_of_csv = list(rdr)\n",
        "    result_list=[]\n",
        "    for lst in list_of_csv:\n",
        "      sum1 = 0\n",
        "      for item in lst:\n",
        "        sum1 += int(item)\n",
        "        result_list.append(sum1/4)\n",
        "    return result_list"
      ],
      "metadata": {
        "id": "9ngHxTG8LI8q"
      },
      "execution_count": 353,
      "outputs": []
    },
    {
      "cell_type": "code",
      "source": [],
      "metadata": {
        "id": "Nkhs8jxsgAYO"
      },
      "execution_count": 353,
      "outputs": []
    }
  ]
}