{
  "nbformat": 4,
  "nbformat_minor": 0,
  "metadata": {
    "colab": {
      "provenance": [],
      "authorship_tag": "ABX9TyNZY0eYwtaS2Lock9H2zbrx",
      "include_colab_link": true
    },
    "kernelspec": {
      "name": "python3",
      "display_name": "Python 3"
    },
    "language_info": {
      "name": "python"
    }
  },
  "cells": [
    {
      "cell_type": "markdown",
      "metadata": {
        "id": "view-in-github",
        "colab_type": "text"
      },
      "source": [
        "<a href=\"https://colab.research.google.com/github/youngchae64/AIProject/blob/main/3%EC%A3%BC%EC%B0%A8_%EB%AF%B8%EC%85%98_%EC%86%94%EB%A3%A8%EC%85%98.ipynb\" target=\"_parent\"><img src=\"https://colab.research.google.com/assets/colab-badge.svg\" alt=\"Open In Colab\"/></a>"
      ]
    },
    {
      "cell_type": "markdown",
      "source": [
        "Q1.무작위의 데이터를 가 진 5x3의 행렬을 가지는 numpy array와 3x2 행렬을 가지는 numpy array를 만든 후 행열곱 연산을 진행해보세요"
      ],
      "metadata": {
        "id": "19Gje20PKP-0"
      }
    },
    {
      "cell_type": "code",
      "execution_count": 51,
      "metadata": {
        "id": "CbnFZBJKI8Fw"
      },
      "outputs": [],
      "source": [
        "import numpy as np"
      ]
    },
    {
      "cell_type": "code",
      "source": [
        "arr1 = np.random.random((5,3))\n",
        "arr2 = np.random.random((3,2))"
      ],
      "metadata": {
        "id": "zWIFIL7pJDbM"
      },
      "execution_count": 52,
      "outputs": []
    },
    {
      "cell_type": "code",
      "source": [],
      "metadata": {
        "id": "bHhEfGGlKWYO"
      },
      "execution_count": 52,
      "outputs": []
    },
    {
      "cell_type": "code",
      "source": [
        "arr1"
      ],
      "metadata": {
        "colab": {
          "base_uri": "https://localhost:8080/"
        },
        "id": "o1iCqwyZJmSG",
        "outputId": "9bb614f0-f80b-4e78-f745-1cc001048064"
      },
      "execution_count": 53,
      "outputs": [
        {
          "output_type": "execute_result",
          "data": {
            "text/plain": [
              "array([[0.52099273, 0.53841174, 0.55489275],\n",
              "       [0.54009996, 0.37501279, 0.98629106],\n",
              "       [0.69967441, 0.11620764, 0.72232236],\n",
              "       [0.94467983, 0.19982419, 0.95211183],\n",
              "       [0.60849952, 0.43720359, 0.71084533]])"
            ]
          },
          "metadata": {},
          "execution_count": 53
        }
      ]
    },
    {
      "cell_type": "code",
      "source": [
        "arr2"
      ],
      "metadata": {
        "colab": {
          "base_uri": "https://localhost:8080/"
        },
        "id": "GUOajZgWJqEf",
        "outputId": "6791dc89-bd21-4a19-a144-65b7268c6001"
      },
      "execution_count": 54,
      "outputs": [
        {
          "output_type": "execute_result",
          "data": {
            "text/plain": [
              "array([[0.47696504, 0.11145455],\n",
              "       [0.46982396, 0.83249932],\n",
              "       [0.97948309, 0.36745681]])"
            ]
          },
          "metadata": {},
          "execution_count": 54
        }
      ]
    },
    {
      "cell_type": "code",
      "source": [
        "dot = print(arr1@arr2)"
      ],
      "metadata": {
        "colab": {
          "base_uri": "https://localhost:8080/"
        },
        "id": "w78B5N1aJv6X",
        "outputId": "57ab2cda-8059-4782-87a3-5eff48a8bb12"
      },
      "execution_count": 55,
      "outputs": [
        {
          "output_type": "stream",
          "name": "stdout",
          "text": [
            "[[1.04496211 0.71019354]\n",
            " [1.39985421 0.73481386]\n",
            " [1.09581991 0.44014695]\n",
            " [1.47703888 0.62150235]\n",
            " [1.1919027  0.69299669]]\n"
          ]
        }
      ]
    },
    {
      "cell_type": "markdown",
      "source": [
        "Q2. Numpy에서 사용하는 2개의 numpy array가 있을때, 두 numpy array의 concatenate 연산을 수행해보세요\n"
      ],
      "metadata": {
        "id": "3Sa11-7kKXva"
      }
    },
    {
      "cell_type": "code",
      "source": [
        "arr1 = np.array([[5,7], [9,11]], float)\n",
        "arr2 = np.array([[2,4], [6,8]], float)"
      ],
      "metadata": {
        "id": "pGp09pm3Klpo"
      },
      "execution_count": 56,
      "outputs": []
    },
    {
      "cell_type": "code",
      "source": [
        "concat_1 = np.concatenate((arr1,arr2), axis=0)\n",
        "concat_1"
      ],
      "metadata": {
        "colab": {
          "base_uri": "https://localhost:8080/"
        },
        "id": "8kwlQhEhKxo2",
        "outputId": "4bc61c77-61b2-470f-8a8a-46277c3ba544"
      },
      "execution_count": 57,
      "outputs": [
        {
          "output_type": "execute_result",
          "data": {
            "text/plain": [
              "array([[ 5.,  7.],\n",
              "       [ 9., 11.],\n",
              "       [ 2.,  4.],\n",
              "       [ 6.,  8.]])"
            ]
          },
          "metadata": {},
          "execution_count": 57
        }
      ]
    },
    {
      "cell_type": "code",
      "source": [
        "concat_2 = np.concatenate((arr1,arr2), axis=1)\n",
        "concat_2"
      ],
      "metadata": {
        "colab": {
          "base_uri": "https://localhost:8080/"
        },
        "id": "bJa0phskLUtH",
        "outputId": "1b14681e-fdde-4b51-98ac-cfa85aa1c38f"
      },
      "execution_count": 58,
      "outputs": [
        {
          "output_type": "execute_result",
          "data": {
            "text/plain": [
              "array([[ 5.,  7.,  2.,  4.],\n",
              "       [ 9., 11.,  6.,  8.]])"
            ]
          },
          "metadata": {},
          "execution_count": 58
        }
      ]
    },
    {
      "cell_type": "markdown",
      "source": [
        "Q3. 아래와 같이 데이터가 주어져있을 때, 경사하강법을 위한 데이터를 분리해보세요.\n",
        "\n",
        "주어진 xy 데이터를 이용해서 학습과 정답 데이터를 준비해보세요.\n",
        "\n",
        "*추가 수정* 문제에서 주어진 xy에서 대괄호를 한 번 더 묶어주어야 문제 해결이 가능합니다.\n",
        "(차원 관련)  (np.array([[1., 2., 3., 4., 5., 6.], [10., 20., 30., 40., 50., 60.]])"
      ],
      "metadata": {
        "id": "6aVcY6j5Lh2f"
      }
    },
    {
      "cell_type": "code",
      "source": [
        "xy = np.array([[1.,2.,3.,4.,5.,6.], \n",
        "              [10., 20., 30., 40., 50., 60.]])"
      ],
      "metadata": {
        "id": "BddhMT9QLrMI"
      },
      "execution_count": 59,
      "outputs": []
    },
    {
      "cell_type": "code",
      "source": [
        "x_train = np.array(xy).flatten()\n",
        "x_train = x_train[0:6]\n",
        "print(x_train)"
      ],
      "metadata": {
        "colab": {
          "base_uri": "https://localhost:8080/"
        },
        "id": "4hVjzgJqMC2a",
        "outputId": "f869f5fd-5b73-41e4-ae4a-dc794ccdacd6"
      },
      "execution_count": 60,
      "outputs": [
        {
          "output_type": "stream",
          "name": "stdout",
          "text": [
            "[1. 2. 3. 4. 5. 6.]\n"
          ]
        }
      ]
    },
    {
      "cell_type": "code",
      "source": [
        "y_train = np.array(xy).flatten()\n",
        "y_train = y_train[6:13]\n",
        "print(y_train)"
      ],
      "metadata": {
        "colab": {
          "base_uri": "https://localhost:8080/"
        },
        "id": "Yv12PezrNp9w",
        "outputId": "971465c0-1339-42f9-e7c9-834bd8849594"
      },
      "execution_count": 61,
      "outputs": [
        {
          "output_type": "stream",
          "name": "stdout",
          "text": [
            "[10. 20. 30. 40. 50. 60.]\n"
          ]
        }
      ]
    },
    {
      "cell_type": "code",
      "source": [
        "print(x_train,x_train.shape)\n",
        "print(y_train,y_train.shape)"
      ],
      "metadata": {
        "colab": {
          "base_uri": "https://localhost:8080/"
        },
        "id": "tvSrG98mOj4w",
        "outputId": "0286e712-7178-497b-9b62-3d214427bfe5"
      },
      "execution_count": 62,
      "outputs": [
        {
          "output_type": "stream",
          "name": "stdout",
          "text": [
            "[1. 2. 3. 4. 5. 6.] (6,)\n",
            "[10. 20. 30. 40. 50. 60.] (6,)\n"
          ]
        }
      ]
    },
    {
      "cell_type": "markdown",
      "source": [
        "Q.4  경사 하강법 구현을 위해서 위에서 분리한 x_train 데이터와 계산될 weight, bias 값을 정의해보세요. 여기서 구현한 weight와 bias 는 linear regression 계산을 진행할시 직선의 기울기와 y 절편의 값이 됩니다.\n",
        "\n",
        "numpy 내의 random 함수를 이용해보세요."
      ],
      "metadata": {
        "id": "PCIMev20O7fu"
      }
    },
    {
      "cell_type": "code",
      "source": [
        "beta_gd = np.random.rand()\n",
        "bias = np.random.rand()"
      ],
      "metadata": {
        "id": "hidxVchBPB4e"
      },
      "execution_count": 63,
      "outputs": []
    },
    {
      "cell_type": "code",
      "source": [
        "print(beta_gd)\n",
        "print(bias)"
      ],
      "metadata": {
        "colab": {
          "base_uri": "https://localhost:8080/"
        },
        "id": "G9Cjgk-CXO1j",
        "outputId": "095caf1a-66a3-438c-adbe-1fd53a06ed75"
      },
      "execution_count": 64,
      "outputs": [
        {
          "output_type": "stream",
          "name": "stdout",
          "text": [
            "0.25827570205868755\n",
            "0.8059137939394458\n"
          ]
        }
      ]
    },
    {
      "cell_type": "markdown",
      "source": [
        "Q5.  linear regression을 경사하강법으로 학습하는 코드를 구현해봅시다. 경사하강법 구현을 위한 학습 Loop를 구현해보세요. 최종적으로 1000회 반복했을 시에 결과를 출력하세요. \n",
        "\n",
        "단, Error는 차이의 제곱을 이용해서 계산해주세요.\n",
        "\n",
        "Gradient 값은 우리가 예측하는 각 변수에 대한 미분값입니다."
      ],
      "metadata": {
        "id": "dKAIcdHwYV_Q"
      }
    },
    {
      "cell_type": "code",
      "source": [
        "xy = np.array([[1.,2.,3.,4.,5.,6.,],\n",
        "               [3.,6.,9.,12.,15.,18.]])"
      ],
      "metadata": {
        "id": "gyYM3wgLYbMD"
      },
      "execution_count": 65,
      "outputs": []
    },
    {
      "cell_type": "code",
      "source": [
        "print(x_train)\n",
        "print(y_train)\n",
        "print(beta_gd)\n",
        "print(bias)"
      ],
      "metadata": {
        "colab": {
          "base_uri": "https://localhost:8080/"
        },
        "id": "2V3xwjbBYqsL",
        "outputId": "a9d42dab-3d1b-4a0f-87e9-1bbce131c3a3"
      },
      "execution_count": 66,
      "outputs": [
        {
          "output_type": "stream",
          "name": "stdout",
          "text": [
            "[1. 2. 3. 4. 5. 6.]\n",
            "[10. 20. 30. 40. 50. 60.]\n",
            "0.25827570205868755\n",
            "0.8059137939394458\n"
          ]
        }
      ]
    },
    {
      "cell_type": "code",
      "source": [
        "learning_rate = 0.01"
      ],
      "metadata": {
        "id": "vLxdwucSYzTU"
      },
      "execution_count": 67,
      "outputs": []
    },
    {
      "cell_type": "code",
      "source": [
        "for i in range(1000):\n",
        "  error = y_train - x_train* beta_gd\n",
        "  grad = -np.transpose(x_train) * error\n",
        "  beta_gd = beta_gd - learning_rate*grad \n",
        "\n",
        "  if i % 100 == 0:\n",
        "    print(\"error:\", error)\n",
        "    #print('Epoch([:10d/1000] error:[:10f], beta_gd:[:10f], bias:[:10f]'.format(i, error ,beta_gd.item(), bias.item()))"
      ],
      "metadata": {
        "colab": {
          "base_uri": "https://localhost:8080/"
        },
        "id": "YIeQZ62PY3qS",
        "outputId": "83cd5ac3-44fb-49cb-e8d5-7db95ceb7c32"
      },
      "execution_count": 71,
      "outputs": [
        {
          "output_type": "stream",
          "name": "stdout",
          "text": [
            "error: [4.16356766e-04 4.26325641e-14 2.84217094e-14 2.13162821e-14\n",
            " 1.42108547e-14 1.42108547e-14]\n",
            "error: [1.52400042e-04 4.26325641e-14 2.84217094e-14 2.13162821e-14\n",
            " 1.42108547e-14 1.42108547e-14]\n",
            "error: [5.57833441e-05 4.26325641e-14 2.84217094e-14 2.13162821e-14\n",
            " 1.42108547e-14 1.42108547e-14]\n",
            "error: [2.04185080e-05 4.26325641e-14 2.84217094e-14 2.13162821e-14\n",
            " 1.42108547e-14 1.42108547e-14]\n",
            "error: [7.47383431e-06 4.26325641e-14 2.84217094e-14 2.13162821e-14\n",
            " 1.42108547e-14 1.42108547e-14]\n",
            "error: [2.73566507e-06 4.26325641e-14 2.84217094e-14 2.13162821e-14\n",
            " 1.42108547e-14 1.42108547e-14]\n",
            "error: [1.00134189e-06 4.26325641e-14 2.84217094e-14 2.13162821e-14\n",
            " 1.42108547e-14 1.42108547e-14]\n",
            "error: [3.66523519e-07 4.26325641e-14 2.84217094e-14 2.13162821e-14\n",
            " 1.42108547e-14 1.42108547e-14]\n",
            "error: [1.34159466e-07 4.26325641e-14 2.84217094e-14 2.13162821e-14\n",
            " 1.42108547e-14 1.42108547e-14]\n",
            "error: [4.91067045e-08 4.26325641e-14 2.84217094e-14 2.13162821e-14\n",
            " 1.42108547e-14 1.42108547e-14]\n"
          ]
        }
      ]
    },
    {
      "cell_type": "code",
      "source": [],
      "metadata": {
        "id": "WXvuvNz_ohFU"
      },
      "execution_count": null,
      "outputs": []
    }
  ]
}